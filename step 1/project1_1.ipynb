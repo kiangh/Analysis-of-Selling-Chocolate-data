{
 "cells": [
  {
   "cell_type": "markdown",
   "metadata": {},
   "source": [
    "<h1 align=center style=\"line-height:200%;font-family:vazir;color:#0099cc\">\n",
    "<font face=\"vazir\" color=\"#0099cc\">\n",
    "محموله بزرگ\n",
    "</font>\n",
    "</h1>\n"
   ]
  },
  {
   "cell_type": "markdown",
   "metadata": {},
   "source": [
    "<p style=\"text-align:center;\"><img src=\"pic1.jpg\"></p>"
   ]
  },
  {
   "cell_type": "markdown",
   "metadata": {
    "id": "aK0xZF5y27Hy"
   },
   "source": [
    "<p dir=rtl style=\"direction: rtl;text-align: right;line-height:200%;font-family:vazir;font-size:medium\">\n",
    "<font face=\"vazir\" size=3>\n",
    "  ویدا عاشق شکلات است و بعد از دیدن تبلیغ شکلات‌های خارجی، نتوانست جلوی خود را بگیرد و یک محموله بزرگ شکلات سفارش داد! وقتی محموله رسید، ویدا با کوهی از شکلات‌های خفن روبرو شد که فرق آن‌ها را نمی‌دانست. خوشبختانه فروشنده‌ی این شکلات‌ها لیستی از مشخصات کامل هر شکلات برای ویدا فرستاد ولی آن‌جایی که ویدا چیز زیادی از این لیست سر در نمی‌آورد از شما می‌خواهد به او کمک کنید تا شکلات‌های مورد علاقه‌اش را زودتر پیدا کند و بخورد. بیایید با هم نگاهی به این لیست مشخصات بیاندازیم:\n",
    "\n",
    "</font>\n",
    "</p>\n"
   ]
  },
  {
   "cell_type": "code",
   "execution_count": 54,
   "metadata": {
    "colab": {
     "base_uri": "https://localhost:8080/",
     "height": 223
    },
    "executionInfo": {
     "elapsed": 371,
     "status": "ok",
     "timestamp": 1627552541479,
     "user": {
      "displayName": "Parto Shahroodi",
      "photoUrl": "https://lh3.googleusercontent.com/a-/AOh14GgVRnuIKtxzeAYtLGbbb7NnFc-HXqxuTOJ6OMw7uw=s64",
      "userId": "08853559073941204272"
     },
     "user_tz": -270
    },
    "id": "JUEwzKpr2RUk",
    "outputId": "684b5cff-21a6-46d3-8084-e090addb1731"
   },
   "outputs": [
    {
     "data": {
      "text/html": [
       "<div>\n",
       "<style scoped>\n",
       "    .dataframe tbody tr th:only-of-type {\n",
       "        vertical-align: middle;\n",
       "    }\n",
       "\n",
       "    .dataframe tbody tr th {\n",
       "        vertical-align: top;\n",
       "    }\n",
       "\n",
       "    .dataframe thead th {\n",
       "        text-align: right;\n",
       "    }\n",
       "</style>\n",
       "<table border=\"1\" class=\"dataframe\">\n",
       "  <thead>\n",
       "    <tr style=\"text-align: right;\">\n",
       "      <th></th>\n",
       "      <th>Company</th>\n",
       "      <th>Specific Bean\\nOrigin</th>\n",
       "      <th>Review\\nDate</th>\n",
       "      <th>Cocoa\\nPercent</th>\n",
       "      <th>Company\\nLocation</th>\n",
       "      <th>Rating</th>\n",
       "      <th>Bean\\nType</th>\n",
       "      <th>Broad Bean\\nOrigin</th>\n",
       "    </tr>\n",
       "  </thead>\n",
       "  <tbody>\n",
       "    <tr>\n",
       "      <th>0</th>\n",
       "      <td>A. Morin</td>\n",
       "      <td>Agua Grande</td>\n",
       "      <td>2016</td>\n",
       "      <td>63%</td>\n",
       "      <td>France</td>\n",
       "      <td>3.75</td>\n",
       "      <td>Blend</td>\n",
       "      <td>Sao Tome</td>\n",
       "    </tr>\n",
       "    <tr>\n",
       "      <th>1</th>\n",
       "      <td>A. Morin</td>\n",
       "      <td>Kpime</td>\n",
       "      <td>2015</td>\n",
       "      <td>70%</td>\n",
       "      <td>France</td>\n",
       "      <td>2.75</td>\n",
       "      <td>Blend</td>\n",
       "      <td>Togo</td>\n",
       "    </tr>\n",
       "    <tr>\n",
       "      <th>2</th>\n",
       "      <td>A. Morin</td>\n",
       "      <td>Atsane</td>\n",
       "      <td>2015</td>\n",
       "      <td>70%</td>\n",
       "      <td>France</td>\n",
       "      <td>3.00</td>\n",
       "      <td>Blend</td>\n",
       "      <td>Togo</td>\n",
       "    </tr>\n",
       "    <tr>\n",
       "      <th>3</th>\n",
       "      <td>A. Morin</td>\n",
       "      <td>Akata</td>\n",
       "      <td>2015</td>\n",
       "      <td>70%</td>\n",
       "      <td>France</td>\n",
       "      <td>3.50</td>\n",
       "      <td>Blend</td>\n",
       "      <td>Togo</td>\n",
       "    </tr>\n",
       "    <tr>\n",
       "      <th>4</th>\n",
       "      <td>A. Morin</td>\n",
       "      <td>Quilla</td>\n",
       "      <td>2015</td>\n",
       "      <td>70%</td>\n",
       "      <td>France</td>\n",
       "      <td>3.50</td>\n",
       "      <td>Blend</td>\n",
       "      <td>Peru</td>\n",
       "    </tr>\n",
       "  </tbody>\n",
       "</table>\n",
       "</div>"
      ],
      "text/plain": [
       "    Company Specific Bean\\nOrigin  Review\\nDate Cocoa\\nPercent  \\\n",
       "0  A. Morin           Agua Grande          2016            63%   \n",
       "1  A. Morin                 Kpime          2015            70%   \n",
       "2  A. Morin                Atsane          2015            70%   \n",
       "3  A. Morin                 Akata          2015            70%   \n",
       "4  A. Morin                Quilla          2015            70%   \n",
       "\n",
       "  Company\\nLocation  Rating Bean\\nType Broad Bean\\nOrigin  \n",
       "0            France    3.75      Blend           Sao Tome  \n",
       "1            France    2.75      Blend               Togo  \n",
       "2            France    3.00      Blend               Togo  \n",
       "3            France    3.50      Blend               Togo  \n",
       "4            France    3.50      Blend               Peru  "
      ]
     },
     "execution_count": 54,
     "metadata": {},
     "output_type": "execute_result"
    }
   ],
   "source": [
    "import numpy as np\n",
    "import pandas as pd\n",
    "\n",
    "df = pd.read_csv('chocolate.csv')\n",
    "df.head()"
   ]
  },
  {
   "cell_type": "markdown",
   "metadata": {},
   "source": [
    "<h2 align=right style=\"line-height:200%;font-family:vazir;color:#0099cc\">\n",
    "<font face=\"vazir\" color=\"#0099cc\">\n",
    "قسمت اول\n",
    "</font>\n",
    "</h2>\n",
    "<p dir=rtl style=\"direction: rtl;text-align: right;line-height:200%;font-family:vazir;font-size:medium\">\n",
    "<font face=\"vazir\" size=3>\n",
    "  برای این که به حجم زیاد شکلات‌ها و مشخصات دقیقتر آن‌ها پی ببریم شکل و نام ستون‌های این مجموعه‌ی دادگان را در متغیر‌های زیر بریزید و چاپ کنید:\n",
    "</font>\n",
    "</p>\n"
   ]
  },
  {
   "cell_type": "code",
   "execution_count": 55,
   "metadata": {
    "colab": {
     "base_uri": "https://localhost:8080/"
    },
    "executionInfo": {
     "elapsed": 442,
     "status": "ok",
     "timestamp": 1627552552538,
     "user": {
      "displayName": "Parto Shahroodi",
      "photoUrl": "https://lh3.googleusercontent.com/a-/AOh14GgVRnuIKtxzeAYtLGbbb7NnFc-HXqxuTOJ6OMw7uw=s64",
      "userId": "08853559073941204272"
     },
     "user_tz": -270
    },
    "id": "IPLy4mOvN4LB",
    "outputId": "6f1dcea8-4503-4063-a268-1a5891412bf1"
   },
   "outputs": [
    {
     "name": "stdout",
     "output_type": "stream",
     "text": [
      "(1795, 8)\n",
      "Index(['Company', 'Specific Bean\\nOrigin', 'Review\\nDate', 'Cocoa\\nPercent',\n",
      "       'Company\\nLocation', 'Rating', 'Bean\\nType', 'Broad Bean\\nOrigin'],\n",
      "      dtype='object')\n"
     ]
    }
   ],
   "source": [
    "s = df.shape\n",
    "cols = df.columns\n",
    "print(s)\n",
    "print(cols)"
   ]
  },
  {
   "cell_type": "markdown",
   "metadata": {},
   "source": [
    "<h2 align=right style=\"line-height:200%;font-family:vazir;color:#0099cc\">\n",
    "<font face=\"vazir\" color=\"#0099cc\">\n",
    "قسمت دوم\n",
    "</font>\n",
    "</h2>\n"
   ]
  },
  {
   "cell_type": "markdown",
   "metadata": {
    "id": "phQ8lLXVhTuc"
   },
   "source": [
    "<p dir=rtl style=\"direction: rtl;text-align: right;line-height:200%;font-family:vazir;font-size:medium\">\n",
    "<font face=\"vazir\" size=3>\n",
    "همان‌طور که دیدید، نام برخی از ستون‌ها دارای کاراکتر <code>n\\</code> است که برای ایجاد خط جدید استفاده می‌شود اما در این جا به آن صورت نمایش داده نمی‌شود پس برای مرتب شدن مجموعه داده، نام ستون‌ها را به نوعی تغییر دهید که به جای کاراکتر <code>n\\</code>، تنها از space استفاده شود.\n",
    "</font>\n",
    "</p>\n"
   ]
  },
  {
   "cell_type": "code",
   "execution_count": 56,
   "metadata": {
    "executionInfo": {
     "elapsed": 405,
     "status": "ok",
     "timestamp": 1627552932160,
     "user": {
      "displayName": "Parto Shahroodi",
      "photoUrl": "https://lh3.googleusercontent.com/a-/AOh14GgVRnuIKtxzeAYtLGbbb7NnFc-HXqxuTOJ6OMw7uw=s64",
      "userId": "08853559073941204272"
     },
     "user_tz": -270
    },
    "id": "J6w12_CDsUaK"
   },
   "outputs": [],
   "source": [
    "df.columns = df.columns.str.replace(\"\\n\",\" \")"
   ]
  },
  {
   "cell_type": "markdown",
   "metadata": {
    "id": "AhempoDxhYUd"
   },
   "source": [
    "<p dir=rtl style=\"direction: rtl;text-align: right;line-height:200%;font-family:vazir;font-size:medium\">\n",
    "<font face=\"vazir\" size=3>\n",
    "در کد پایین نگاهی به اطلاعات این مجموعه داده و تایپ ستون‌ها می‌اندازیم. سعی کنید قبل از ادامه، کمی آن‌ها را تحلیل کنید\n",
    "\n",
    "</font>\n",
    "</p>\n"
   ]
  },
  {
   "cell_type": "code",
   "execution_count": 57,
   "metadata": {
    "colab": {
     "base_uri": "https://localhost:8080/"
    },
    "executionInfo": {
     "elapsed": 452,
     "status": "ok",
     "timestamp": 1626769058517,
     "user": {
      "displayName": "Parto Shahroodi",
      "photoUrl": "https://lh3.googleusercontent.com/a-/AOh14GgVRnuIKtxzeAYtLGbbb7NnFc-HXqxuTOJ6OMw7uw=s64",
      "userId": "08853559073941204272"
     },
     "user_tz": -270
    },
    "id": "cGLlHp8C4mkT",
    "outputId": "71575d1a-8c77-4437-c8b2-86b149100891"
   },
   "outputs": [
    {
     "name": "stdout",
     "output_type": "stream",
     "text": [
      "<class 'pandas.core.frame.DataFrame'>\n",
      "RangeIndex: 1795 entries, 0 to 1794\n",
      "Data columns (total 8 columns):\n",
      " #   Column                Non-Null Count  Dtype  \n",
      "---  ------                --------------  -----  \n",
      " 0   Company               1795 non-null   object \n",
      " 1   Specific Bean Origin  1795 non-null   object \n",
      " 2   Review Date           1795 non-null   int64  \n",
      " 3   Cocoa Percent         1795 non-null   object \n",
      " 4   Company Location      1795 non-null   object \n",
      " 5   Rating                1795 non-null   float64\n",
      " 6   Bean Type             1795 non-null   object \n",
      " 7   Broad Bean Origin     1794 non-null   object \n",
      "dtypes: float64(1), int64(1), object(6)\n",
      "memory usage: 112.3+ KB\n"
     ]
    }
   ],
   "source": [
    "df.info()"
   ]
  },
  {
   "cell_type": "markdown",
   "metadata": {},
   "source": [
    "<h2 align=right style=\"line-height:200%;font-family:vazir;color:#0099cc\">\n",
    "<font face=\"vazir\" color=\"#0099cc\">\n",
    "قسمت سوم\n",
    "</font>\n",
    "</h2>\n",
    "<p dir=rtl style=\"direction: rtl;text-align: right;line-height:200%;font-family:vazir;font-size:medium\">\n",
    "<font face=\"vazir\" size=3>\n",
    "همان‌طور که احتمالا متوجه شده‌اید، تمام ستون‌هایی که دارای دادگان از نوع رشته <code>string</code> هستند، به صورت <code>object</code> ذخیره شده‌اند که به دلیل نداشتن مقادیر خالی (که در فصل آینده با آن آشنا می‌شوید)، لزومی ندارد این ستون‌ها به صورت <code>object</code> باقی بمانند. برای راحتی محاسبات این ستون‌ها را به نوع رشته تغییر دهید و با دستور <code>info</code> از صحت انجام این کار مطمئن شوید.\n",
    "\n",
    "</font>\n",
    "</p>\n"
   ]
  },
  {
   "cell_type": "code",
   "execution_count": 58,
   "metadata": {
    "colab": {
     "base_uri": "https://localhost:8080/"
    },
    "executionInfo": {
     "elapsed": 456,
     "status": "ok",
     "timestamp": 1626769062163,
     "user": {
      "displayName": "Parto Shahroodi",
      "photoUrl": "https://lh3.googleusercontent.com/a-/AOh14GgVRnuIKtxzeAYtLGbbb7NnFc-HXqxuTOJ6OMw7uw=s64",
      "userId": "08853559073941204272"
     },
     "user_tz": -270
    },
    "id": "OozOj4u-5KEd",
    "outputId": "a314621d-0e65-4bd2-ce71-ae99d26b0f92"
   },
   "outputs": [
    {
     "name": "stdout",
     "output_type": "stream",
     "text": [
      "<class 'pandas.core.frame.DataFrame'>\n",
      "RangeIndex: 1795 entries, 0 to 1794\n",
      "Data columns (total 8 columns):\n",
      " #   Column                Non-Null Count  Dtype  \n",
      "---  ------                --------------  -----  \n",
      " 0   Company               1795 non-null   string \n",
      " 1   Specific Bean Origin  1795 non-null   string \n",
      " 2   Review Date           1795 non-null   Int64  \n",
      " 3   Cocoa Percent         1795 non-null   string \n",
      " 4   Company Location      1795 non-null   string \n",
      " 5   Rating                1795 non-null   Float64\n",
      " 6   Bean Type             1795 non-null   string \n",
      " 7   Broad Bean Origin     1794 non-null   string \n",
      "dtypes: Float64(1), Int64(1), string(6)\n",
      "memory usage: 115.8 KB\n"
     ]
    }
   ],
   "source": [
    "df = df.convert_dtypes()\n",
    "df.info()"
   ]
  },
  {
   "cell_type": "markdown",
   "metadata": {},
   "source": [
    "<h2 align=right style=\"line-height:200%;font-family:vazir;color:#0099cc\">\n",
    "<font face=\"vazir\" color=\"#0099cc\">\n",
    "قسمت چهارم\n",
    "</font>\n",
    "</h2>\n",
    "<p dir=rtl style=\"direction: rtl;text-align: right;line-height:200%;font-family:vazir;font-size:medium\">\n",
    "<font face=\"vazir\" size=3>\n",
    "مشکل بعدی، ستون درصد کاکائوی خالص <code>Cocoa Percent</code> است. همان‌طور که می‌بینید این ستون در حال حاضر به صورت رشته ذخیره شده است، اما مقادیر اصلی آن به صورت عددی می‌باشد چون در این حالت استفاده از اطلاعات راحت تر است. پس برای نرمال‌سازی بهتر این ستون، راه‌حلی بیابید تا علامت درصد را از مقادیر حذف کرده و سپس آن را به <code>float</code> تبدیل کنید.\n",
    "\n",
    "</font>\n",
    "</p>\n"
   ]
  },
  {
   "cell_type": "code",
   "execution_count": 59,
   "metadata": {
    "colab": {
     "base_uri": "https://localhost:8080/",
     "height": 223
    },
    "executionInfo": {
     "elapsed": 449,
     "status": "ok",
     "timestamp": 1626769123179,
     "user": {
      "displayName": "Parto Shahroodi",
      "photoUrl": "https://lh3.googleusercontent.com/a-/AOh14GgVRnuIKtxzeAYtLGbbb7NnFc-HXqxuTOJ6OMw7uw=s64",
      "userId": "08853559073941204272"
     },
     "user_tz": -270
    },
    "id": "HXZtM_L--I9o",
    "outputId": "4246a6bd-a533-460b-e5b4-ad85ae5fbc2e"
   },
   "outputs": [],
   "source": [
    "df['Cocoa Percent']= df['Cocoa Percent'].str.replace(\"%\",\"\")\n",
    "df['Cocoa Percent'] = df['Cocoa Percent'].astype(float)"
   ]
  },
  {
   "cell_type": "markdown",
   "metadata": {},
   "source": [
    "<h2 align=right style=\"line-height:200%;font-family:vazir;color:#0099cc\">\n",
    "<font face=\"vazir\" color=\"#0099cc\">\n",
    "بررسی فراوانی درصد کاکائو\n",
    "</font>\n",
    "</h2>\n",
    "<p dir=rtl style=\"direction: rtl;text-align: right;line-height:200%;font-family:vazir;font-size:medium\">\n",
    "<font face=\"vazir\" size=3>\n",
    "مصورسازی داده می‌تواند در بسیاری از شرایط، به سرعت حقایق مهمی را نشان دهد. برای مثال، در اینجا ما می‌توانیم برای بررسی درصد کاکائو در شکلات‌های مختلف، از نمودار هیستوگرام استفاده کنیم.\n",
    "<br>\n",
    "<br>\n",
    "هول نشوید! توضیح انواع نمودار و آموزش رسم آنها در فصل مصورسازی داده آمده است.\n",
    "\n",
    "</font>\n",
    "</p>\n"
   ]
  },
  {
   "cell_type": "code",
   "execution_count": 60,
   "metadata": {},
   "outputs": [
    {
     "data": {
      "text/plain": [
       "<seaborn.axisgrid.FacetGrid at 0x1e920ca83a0>"
      ]
     },
     "execution_count": 60,
     "metadata": {},
     "output_type": "execute_result"
    },
    {
     "data": {
      "image/png": "[encoded data removed]",
      "text/plain": [
       "<Figure size 360x360 with 1 Axes>"
      ]
     },
     "metadata": {
      "needs_background": "light"
     },
     "output_type": "display_data"
    }
   ],
   "source": [
    "import seaborn as sns\n",
    "sns.displot(df, x='Cocoa Percent', bins = 30)"
   ]
  },
  {
   "cell_type": "markdown",
   "metadata": {},
   "source": [
    "<p dir=rtl style=\"direction: rtl;text-align: right;line-height:200%;font-family:vazir;font-size:medium\">\n",
    "<font face=\"vazir\" size=3>\n",
    "با بررسی نمودار بالا مشخص می‌شود که درصد زیادی از شکلات‌ها، دارای ۷۰ درصد کاکائو هستند.\n",
    "</font>\n",
    "</p>"
   ]
  },
  {
   "cell_type": "markdown",
   "metadata": {},
   "source": [
    "<h2 align=right style=\"line-height:200%;font-family:vazir;color:#0099cc\">\n",
    "<font face=\"vazir\" color=\"#0099cc\">\n",
    "ذخیره دادگان\n",
    "</font>\n",
    "</h2>\n",
    "<p dir=rtl style=\"direction: rtl;text-align: right;line-height:200%;font-family:vazir;font-size:medium\">\n",
    "<font face=\"vazir\" size=3>\n",
    "مجموعه داده‌ی مرتب شده را در فایل <code>chocolate_preprocessed.csv</code> و بدون نمایه (<code>index</code>) ذخیره کنید تا بتوانید در مرحله‌ی بعدی از آن استفاده کنید.\n",
    "</font>\n",
    "</p>\n"
   ]
  },
  {
   "cell_type": "code",
   "execution_count": null,
   "metadata": {
    "id": "Jl_UvfllCL4F"
   },
   "outputs": [],
   "source": [
    "#TODO"
   ]
  },
  {
   "cell_type": "markdown",
   "metadata": {
    "id": "Mwsyy0XChpN5"
   },
   "source": [
    "<p dir=rtl style=\"direction: rtl;text-align: right;line-height:200%;font-family:vazir;font-size:medium\">\n",
    "<font face=\"vazir\" size=3>\n",
    "تبریک! حالا تمامی مشخصات مرتب و آماده‌ی تحلیل است. برای اطمینان از درستی انجام این مرحله، کد زیر را اجرا و فایل result.zip را ارسال کنید.\n",
    "</font>\n",
    "</p>\n"
   ]
  },
  {
   "cell_type": "code",
   "execution_count": null,
   "metadata": {
    "id": "d3RwVUR0hr6z"
   },
   "outputs": [],
   "source": [
    "import zlib\n",
    "import zipfile\n",
    "\n",
    "def compress(file_names):\n",
    "    print(\"File Paths:\")\n",
    "    print(file_names)\n",
    "    compression = zipfile.ZIP_DEFLATED\n",
    "    with zipfile.ZipFile(\"result.zip\", mode=\"w\") as zf:\n",
    "        for file_name in file_names:\n",
    "            zf.write('./' + file_name, file_name, compress_type=compression)\n",
    "\n",
    "np.savez(\"answers.npz\",s = s,cols = cols)\n",
    "file_names = [\"answers.npz\", \"project1_1.ipynb\",\"chocolate_preprocessed.csv\"]\n",
    "compress(file_names)"
   ]
  }
 ],
 "metadata": {
  "colab": {
   "authorship_tag": "ABX9TyN5diGbKcT8eK/BCk7EMqAj",
   "name": "گام اول.ipynb",
   "provenance": []
  },
  "interpreter": {
   "hash": "243856ee5aa5cfcf7c7fc5e27ace1f0d0cf471c324fa5d741db742eb1bed0a33"
  },
  "kernelspec": {
   "display_name": "Python 3 (ipykernel)",
   "language": "python",
   "name": "python3"
  },
  "language_info": {
   "codemirror_mode": {
    "name": "ipython",
    "version": 3
   },
   "file_extension": ".py",
   "mimetype": "text/x-python",
   "name": "python",
   "nbconvert_exporter": "python",
   "pygments_lexer": "ipython3",
   "version": "3.8.1"
  }
 },
 "nbformat": 4,
 "nbformat_minor": 4
}
