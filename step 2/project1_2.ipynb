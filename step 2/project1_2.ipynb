{
 "cells": [
  {
   "cell_type": "markdown",
   "metadata": {},
   "source": [
    "<h1 align=center style=\"line-height:200%;font-family:vazir;color:#0099cc\">\n",
    "<font face=\"vazir\" color=\"#0099cc\">\n",
    "فروش شکلات\n",
    "</font>\n",
    "</h1>\n"
   ]
  },
  {
   "cell_type": "markdown",
   "metadata": {
    "id": "ZSVpqeM224lp"
   },
   "source": [
    "<h2 align=right style=\"line-height:200%;font-family:vazir;color:#0099cc\">\n",
    "<font face=\"vazir\" color=\"#0099cc\">\n",
    "قسمت اول\n",
    "</font>\n",
    "</h2>\n",
    "\n",
    "<p dir=rtl style=\"direction: rtl;text-align: right;line-height:200%;font-family:vazir;font-size:medium\">\n",
    "<font face=\"vazir\" size=3>\n",
    "برای ادامه‌ی مسیر ابتدا، فایل <code>chocolate_preprocessed.csv</code> را که در مرحله‌ی قبل ذخیره کرده‌اید در متغیر <code>df</code> خوانده و مقدار آن را بررسی کنید.\n",
    "</font>\n",
    "</p>\n"
   ]
  },
  {
   "cell_type": "code",
   "execution_count": 1,
   "metadata": {
    "colab": {
     "base_uri": "https://localhost:8080/",
     "height": 223
    },
    "executionInfo": {
     "elapsed": 460,
     "status": "ok",
     "timestamp": 1627307355760,
     "user": {
      "displayName": "Parto Shahroodi",
      "photoUrl": "https://lh3.googleusercontent.com/a-/AOh14GgVRnuIKtxzeAYtLGbbb7NnFc-HXqxuTOJ6OMw7uw=s64",
      "userId": "08853559073941204272"
     },
     "user_tz": -270
    },
    "id": "w-d3otC0CkKH",
    "outputId": "741b4a44-84b1-4f11-ffc0-40e852154f51"
   },
   "outputs": [],
   "source": [
    "import numpy as np\n",
    "import pandas as pd\n",
    "\n",
    "df = pd.read_csv('./chocolate_preprocessed.csv')"
   ]
  },
  {
   "cell_type": "markdown",
   "metadata": {
    "id": "NC-uprUp3RPr"
   },
   "source": [
    "<h2 align=right style=\"line-height:200%;font-family:vazir;color:#0099cc\">\n",
    "<font face=\"vazir\" color=\"#0099cc\">\n",
    "قسمت دوم\n",
    "</font>\n",
    "</h2>\n",
    "<p dir=rtl style=\"direction: rtl;text-align: right;line-height:200%;font-family:vazir;font-size:medium\">\n",
    "<font face=\"vazir\" size=3>\n",
    "بعد از این که ویدا چندتا از شکلات‌ها را خورد، متوجه‌ی تعداد زیاد آن‌ها و تاریخ انقضای آن‌ها شد که به زودی به پایان میرسید، به همین دلیل تصمیم گرفت کسب و کار فروش شکلات‌های خارجی در ایران را راه اندازی کند. بعد از کمی تحقیق، معلوم شد قیمت یک شکلات با درصد امتیاز آن توسط متخصصان رابطه‌ی مستقیم دارد. خوشبختانه ویدا این اطلاعات را در مجموعه داده‌ی موجود پیدا کرد اما همان‌طور که می‌بینید این امتیازها به صورت درصد نیستند پس از شما میخواهد تا به اون کمک کنید. مقدار ستون <code>Rating</code> را طوری عوض کنید که بالاترین مقدار ۱۰۰ باشد.\n",
    "<br>\n",
    "<br>\n",
    "<b>\n",
    "توجه:\n",
    "</b>\n",
    " پس از تغییر ستون <code>Rating</code> نوع ستون را به <code>int</code> تغییر دهید.\n",
    "\n",
    "</font>\n",
    "\n",
    "</p>\n"
   ]
  },
  {
   "cell_type": "code",
   "execution_count": 2,
   "metadata": {
    "colab": {
     "base_uri": "https://localhost:8080/",
     "height": 223
    },
    "executionInfo": {
     "elapsed": 85,
     "status": "ok",
     "timestamp": 1627307356762,
     "user": {
      "displayName": "Parto Shahroodi",
      "photoUrl": "https://lh3.googleusercontent.com/a-/AOh14GgVRnuIKtxzeAYtLGbbb7NnFc-HXqxuTOJ6OMw7uw=s64",
      "userId": "08853559073941204272"
     },
     "user_tz": -270
    },
    "id": "hO7IGL0oDLS-",
    "outputId": "8fa50bdb-62ed-4586-faab-faee60bf4feb"
   },
   "outputs": [
    {
     "data": {
      "text/html": [
       "<div>\n",
       "<style scoped>\n",
       "    .dataframe tbody tr th:only-of-type {\n",
       "        vertical-align: middle;\n",
       "    }\n",
       "\n",
       "    .dataframe tbody tr th {\n",
       "        vertical-align: top;\n",
       "    }\n",
       "\n",
       "    .dataframe thead th {\n",
       "        text-align: right;\n",
       "    }\n",
       "</style>\n",
       "<table border=\"1\" class=\"dataframe\">\n",
       "  <thead>\n",
       "    <tr style=\"text-align: right;\">\n",
       "      <th></th>\n",
       "      <th>Company</th>\n",
       "      <th>Specific Bean Origin</th>\n",
       "      <th>Review Date</th>\n",
       "      <th>Cocoa Percent</th>\n",
       "      <th>Company Location</th>\n",
       "      <th>Rating</th>\n",
       "      <th>Bean Type</th>\n",
       "      <th>Broad Bean Origin</th>\n",
       "    </tr>\n",
       "  </thead>\n",
       "  <tbody>\n",
       "    <tr>\n",
       "      <th>0</th>\n",
       "      <td>A. Morin</td>\n",
       "      <td>Agua Grande</td>\n",
       "      <td>2016</td>\n",
       "      <td>63.0</td>\n",
       "      <td>France</td>\n",
       "      <td>75</td>\n",
       "      <td>Blend</td>\n",
       "      <td>Sao Tome</td>\n",
       "    </tr>\n",
       "    <tr>\n",
       "      <th>1</th>\n",
       "      <td>A. Morin</td>\n",
       "      <td>Kpime</td>\n",
       "      <td>2015</td>\n",
       "      <td>70.0</td>\n",
       "      <td>France</td>\n",
       "      <td>55</td>\n",
       "      <td>Blend</td>\n",
       "      <td>Togo</td>\n",
       "    </tr>\n",
       "    <tr>\n",
       "      <th>2</th>\n",
       "      <td>A. Morin</td>\n",
       "      <td>Atsane</td>\n",
       "      <td>2015</td>\n",
       "      <td>70.0</td>\n",
       "      <td>France</td>\n",
       "      <td>60</td>\n",
       "      <td>Blend</td>\n",
       "      <td>Togo</td>\n",
       "    </tr>\n",
       "    <tr>\n",
       "      <th>3</th>\n",
       "      <td>A. Morin</td>\n",
       "      <td>Akata</td>\n",
       "      <td>2015</td>\n",
       "      <td>70.0</td>\n",
       "      <td>France</td>\n",
       "      <td>70</td>\n",
       "      <td>Blend</td>\n",
       "      <td>Togo</td>\n",
       "    </tr>\n",
       "    <tr>\n",
       "      <th>4</th>\n",
       "      <td>A. Morin</td>\n",
       "      <td>Quilla</td>\n",
       "      <td>2015</td>\n",
       "      <td>70.0</td>\n",
       "      <td>France</td>\n",
       "      <td>70</td>\n",
       "      <td>Blend</td>\n",
       "      <td>Peru</td>\n",
       "    </tr>\n",
       "  </tbody>\n",
       "</table>\n",
       "</div>"
      ],
      "text/plain": [
       "    Company Specific Bean Origin  Review Date  Cocoa Percent Company Location  \\\n",
       "0  A. Morin          Agua Grande         2016           63.0           France   \n",
       "1  A. Morin                Kpime         2015           70.0           France   \n",
       "2  A. Morin               Atsane         2015           70.0           France   \n",
       "3  A. Morin                Akata         2015           70.0           France   \n",
       "4  A. Morin               Quilla         2015           70.0           France   \n",
       "\n",
       "   Rating Bean Type Broad Bean Origin  \n",
       "0      75     Blend          Sao Tome  \n",
       "1      55     Blend              Togo  \n",
       "2      60     Blend              Togo  \n",
       "3      70     Blend              Togo  \n",
       "4      70     Blend              Peru  "
      ]
     },
     "execution_count": 2,
     "metadata": {},
     "output_type": "execute_result"
    }
   ],
   "source": [
    "df['Rating'] = (df['Rating']/5.0)*100\n",
    "df['Rating'] = df['Rating'].astype(int)\n",
    "df.head()"
   ]
  },
  {
   "cell_type": "markdown",
   "metadata": {
    "id": "XKq_LJE03XQf"
   },
   "source": [
    "<h2 align=right style=\"line-height:200%;font-family:vazir;color:#0099cc\">\n",
    "<font face=\"vazir\" color=\"#0099cc\">\n",
    "قسمت سوم\n",
    "</font>\n",
    "</h2>\n",
    "<p dir=rtl style=\"direction: rtl;text-align: right;line-height:200%;font-family:vazir;font-size:medium\">\n",
    "<font face=\"vazir\" size=3>\n",
    "بعد از کمی تحقیق مشخص شد که قیمت ۱۰۰ گرم شکلات خالص با بالاترین کیفیت ۲۵۰۰۰۰ تومان است. برای محاسبه‌ی قیمت هر شکلات ستونی با نام <code>'price(100g)'</code> به مجموعه داده اضافه کنید که این مقدار را نشان دهد.\n",
    "<br>\n",
    "قیمت = میزان شکلات * امتیاز * ۲۵\n",
    "</font>\n",
    "</p>\n"
   ]
  },
  {
   "cell_type": "code",
   "execution_count": 3,
   "metadata": {
    "colab": {
     "base_uri": "https://localhost:8080/",
     "height": 441
    },
    "executionInfo": {
     "elapsed": 83,
     "status": "ok",
     "timestamp": 1627307356768,
     "user": {
      "displayName": "Parto Shahroodi",
      "photoUrl": "https://lh3.googleusercontent.com/a-/AOh14GgVRnuIKtxzeAYtLGbbb7NnFc-HXqxuTOJ6OMw7uw=s64",
      "userId": "08853559073941204272"
     },
     "user_tz": -270
    },
    "id": "ahOjOTgEENSP",
    "outputId": "1fa3c1e4-0bf4-45f4-b5b3-c38aa88d36b5"
   },
   "outputs": [
    {
     "data": {
      "text/html": [
       "<div>\n",
       "<style scoped>\n",
       "    .dataframe tbody tr th:only-of-type {\n",
       "        vertical-align: middle;\n",
       "    }\n",
       "\n",
       "    .dataframe tbody tr th {\n",
       "        vertical-align: top;\n",
       "    }\n",
       "\n",
       "    .dataframe thead th {\n",
       "        text-align: right;\n",
       "    }\n",
       "</style>\n",
       "<table border=\"1\" class=\"dataframe\">\n",
       "  <thead>\n",
       "    <tr style=\"text-align: right;\">\n",
       "      <th></th>\n",
       "      <th>Company</th>\n",
       "      <th>Specific Bean Origin</th>\n",
       "      <th>Review Date</th>\n",
       "      <th>Cocoa Percent</th>\n",
       "      <th>Company Location</th>\n",
       "      <th>Rating</th>\n",
       "      <th>Bean Type</th>\n",
       "      <th>Broad Bean Origin</th>\n",
       "      <th>price(100g)</th>\n",
       "    </tr>\n",
       "  </thead>\n",
       "  <tbody>\n",
       "    <tr>\n",
       "      <th>0</th>\n",
       "      <td>A. Morin</td>\n",
       "      <td>Agua Grande</td>\n",
       "      <td>2016</td>\n",
       "      <td>63.0</td>\n",
       "      <td>France</td>\n",
       "      <td>75</td>\n",
       "      <td>Blend</td>\n",
       "      <td>Sao Tome</td>\n",
       "      <td>118125.0</td>\n",
       "    </tr>\n",
       "    <tr>\n",
       "      <th>1</th>\n",
       "      <td>A. Morin</td>\n",
       "      <td>Kpime</td>\n",
       "      <td>2015</td>\n",
       "      <td>70.0</td>\n",
       "      <td>France</td>\n",
       "      <td>55</td>\n",
       "      <td>Blend</td>\n",
       "      <td>Togo</td>\n",
       "      <td>96250.0</td>\n",
       "    </tr>\n",
       "    <tr>\n",
       "      <th>2</th>\n",
       "      <td>A. Morin</td>\n",
       "      <td>Atsane</td>\n",
       "      <td>2015</td>\n",
       "      <td>70.0</td>\n",
       "      <td>France</td>\n",
       "      <td>60</td>\n",
       "      <td>Blend</td>\n",
       "      <td>Togo</td>\n",
       "      <td>105000.0</td>\n",
       "    </tr>\n",
       "    <tr>\n",
       "      <th>3</th>\n",
       "      <td>A. Morin</td>\n",
       "      <td>Akata</td>\n",
       "      <td>2015</td>\n",
       "      <td>70.0</td>\n",
       "      <td>France</td>\n",
       "      <td>70</td>\n",
       "      <td>Blend</td>\n",
       "      <td>Togo</td>\n",
       "      <td>122500.0</td>\n",
       "    </tr>\n",
       "    <tr>\n",
       "      <th>4</th>\n",
       "      <td>A. Morin</td>\n",
       "      <td>Quilla</td>\n",
       "      <td>2015</td>\n",
       "      <td>70.0</td>\n",
       "      <td>France</td>\n",
       "      <td>70</td>\n",
       "      <td>Blend</td>\n",
       "      <td>Peru</td>\n",
       "      <td>122500.0</td>\n",
       "    </tr>\n",
       "    <tr>\n",
       "      <th>...</th>\n",
       "      <td>...</td>\n",
       "      <td>...</td>\n",
       "      <td>...</td>\n",
       "      <td>...</td>\n",
       "      <td>...</td>\n",
       "      <td>...</td>\n",
       "      <td>...</td>\n",
       "      <td>...</td>\n",
       "      <td>...</td>\n",
       "    </tr>\n",
       "    <tr>\n",
       "      <th>1790</th>\n",
       "      <td>Zotter</td>\n",
       "      <td>Peru</td>\n",
       "      <td>2011</td>\n",
       "      <td>70.0</td>\n",
       "      <td>Austria</td>\n",
       "      <td>75</td>\n",
       "      <td>Blend</td>\n",
       "      <td>Peru</td>\n",
       "      <td>131250.0</td>\n",
       "    </tr>\n",
       "    <tr>\n",
       "      <th>1791</th>\n",
       "      <td>Zotter</td>\n",
       "      <td>Congo</td>\n",
       "      <td>2011</td>\n",
       "      <td>65.0</td>\n",
       "      <td>Austria</td>\n",
       "      <td>60</td>\n",
       "      <td>Forastero</td>\n",
       "      <td>Congo</td>\n",
       "      <td>97500.0</td>\n",
       "    </tr>\n",
       "    <tr>\n",
       "      <th>1792</th>\n",
       "      <td>Zotter</td>\n",
       "      <td>Kerala State</td>\n",
       "      <td>2011</td>\n",
       "      <td>65.0</td>\n",
       "      <td>Austria</td>\n",
       "      <td>70</td>\n",
       "      <td>Forastero</td>\n",
       "      <td>India</td>\n",
       "      <td>113750.0</td>\n",
       "    </tr>\n",
       "    <tr>\n",
       "      <th>1793</th>\n",
       "      <td>Zotter</td>\n",
       "      <td>Kerala State</td>\n",
       "      <td>2011</td>\n",
       "      <td>62.0</td>\n",
       "      <td>Austria</td>\n",
       "      <td>65</td>\n",
       "      <td>Blend</td>\n",
       "      <td>India</td>\n",
       "      <td>100750.0</td>\n",
       "    </tr>\n",
       "    <tr>\n",
       "      <th>1794</th>\n",
       "      <td>Zotter</td>\n",
       "      <td>Brazil, Mitzi Blue</td>\n",
       "      <td>2010</td>\n",
       "      <td>65.0</td>\n",
       "      <td>Austria</td>\n",
       "      <td>60</td>\n",
       "      <td>Blend</td>\n",
       "      <td>Brazil</td>\n",
       "      <td>97500.0</td>\n",
       "    </tr>\n",
       "  </tbody>\n",
       "</table>\n",
       "<p>1795 rows × 9 columns</p>\n",
       "</div>"
      ],
      "text/plain": [
       "       Company Specific Bean Origin  Review Date  Cocoa Percent  \\\n",
       "0     A. Morin          Agua Grande         2016           63.0   \n",
       "1     A. Morin                Kpime         2015           70.0   \n",
       "2     A. Morin               Atsane         2015           70.0   \n",
       "3     A. Morin                Akata         2015           70.0   \n",
       "4     A. Morin               Quilla         2015           70.0   \n",
       "...        ...                  ...          ...            ...   \n",
       "1790    Zotter                 Peru         2011           70.0   \n",
       "1791    Zotter                Congo         2011           65.0   \n",
       "1792    Zotter         Kerala State         2011           65.0   \n",
       "1793    Zotter         Kerala State         2011           62.0   \n",
       "1794    Zotter   Brazil, Mitzi Blue         2010           65.0   \n",
       "\n",
       "     Company Location  Rating  Bean Type Broad Bean Origin  price(100g)  \n",
       "0              France      75      Blend          Sao Tome     118125.0  \n",
       "1              France      55      Blend              Togo      96250.0  \n",
       "2              France      60      Blend              Togo     105000.0  \n",
       "3              France      70      Blend              Togo     122500.0  \n",
       "4              France      70      Blend              Peru     122500.0  \n",
       "...               ...     ...        ...               ...          ...  \n",
       "1790          Austria      75      Blend              Peru     131250.0  \n",
       "1791          Austria      60  Forastero             Congo      97500.0  \n",
       "1792          Austria      70  Forastero             India     113750.0  \n",
       "1793          Austria      65      Blend             India     100750.0  \n",
       "1794          Austria      60      Blend            Brazil      97500.0  \n",
       "\n",
       "[1795 rows x 9 columns]"
      ]
     },
     "execution_count": 3,
     "metadata": {},
     "output_type": "execute_result"
    }
   ],
   "source": [
    "df['price(100g)'] = df['Cocoa Percent']*df['Rating']*25\n",
    "df"
   ]
  },
  {
   "cell_type": "markdown",
   "metadata": {},
   "source": [
    "<h2 align=right style=\"line-height:200%;font-family:vazir;color:#0099cc\">\n",
    "<font face=\"vazir\" color=\"#0099cc\">\n",
    "بررسی رابطه وزن و قیمت شکلات</font>\n",
    "</h2>\n",
    "<p dir=rtl style=\"direction: rtl;text-align: right;line-height:200%;font-family:vazir;font-size:medium\">\n",
    "<font face=\"vazir\" size=3>\n",
    "در قسمت قبل در واقع از رگرسیون برای تخمین قیمت شکلات ها استفاده شد. در رگرسیون، از ویژگی های موجود برای تخمین مقدار ویژگی ناموجود استفاده می کنند. رگرسیون می تواند خطی یا غیر خطی باشد. در رگرسیون خطی، رابطه متغیرها را با یک خط راست می‌توان نشان داد. در این لحظه نیازی نیست با این مفاهیم آشنا باشید. برای بررسی رابطه وزن و قیمت شکلات، می‌توانیم از ابزارهای مصورسازی استفاده کنیم. در سلول زیر، از متد <code>regplot</code> برای بررسی نمایش رابطه این دو متغیر استفاده می‌کنیم:\n",
    "</font>\n",
    "</p>\n",
    "\n"
   ]
  },
  {
   "cell_type": "code",
   "execution_count": 4,
   "metadata": {},
   "outputs": [
    {
     "data": {
      "text/plain": [
       "<AxesSubplot:xlabel='Rating', ylabel='price(100g)'>"
      ]
     },
     "execution_count": 4,
     "metadata": {},
     "output_type": "execute_result"
    },
    {
     "data": {
      "image/png": "[encoded data removed]",
      "text/plain": [
       "<Figure size 432x288 with 1 Axes>"
      ]
     },
     "metadata": {},
     "output_type": "display_data"
    }
   ],
   "source": [
    "import seaborn as sns\n",
    "sns.set_theme()\n",
    "sns.regplot(x = df.Rating, y = df['price(100g)'])"
   ]
  },
  {
   "cell_type": "markdown",
   "metadata": {},
   "source": [
    "<p dir=rtl style=\"direction: rtl;text-align: right;line-height:200%;font-family:vazir;font-size:medium\">\n",
    "<font face=\"vazir\" size=3>\n",
    "همانطور که در نمودار می‌بینید، بین امتیاز و قیمت کاکائو رابطه‌ای خطی وجود دارد و با این خط، می‌توان قیمت شکلات‌های بدون قیمت را محاسبه کرد.</font>\n",
    "</p>"
   ]
  },
  {
   "cell_type": "markdown",
   "metadata": {
    "id": "Wl-nJBRy3fxe"
   },
   "source": [
    "<h2 align=right style=\"line-height:200%;font-family:vazir;color:#0099cc\">\n",
    "<font face=\"vazir\" color=\"#0099cc\">\n",
    "قسمت چهارم\n",
    "</font>\n",
    "</h2>\n",
    "<p dir=rtl style=\"direction: rtl;text-align: right;line-height:200%;font-family:vazir;font-size:medium\">\n",
    "<font face=\"vazir\" size=3>\n",
    "بعد از محاسبه‌ی قیمت، ویدا متوجه شد که تعداد زیادی از شکلات‌ها تلخ هستند و او علاقه‌ای به شکلات‌های بیشتر از 70 درصد ندارد و از آن‌جایی که این شکلات‌ها گران‌تر هم هستند به این نتیجه رسید که فروش آن‌ها بهترین کار است. بدین منظور به او کمک کنید تا شکلات‌های تلخ را در مجموعه داده‌ی جدیدی با نام <code>dark_chocolates</code> ذخیره کرده و باقی آن‌ها را در مجموعه داده‌ی دیگری با نام <code>good_chocolates</code> بریزد. \n",
    "\n",
    "<ul dir=rtl>\n",
    "  <li>\tویدا شکلات‌های ۷۰ درصد هم دوست دارد و خوب هستند!\n",
    "</li>\n",
    "  <li>\tبرای مرتب شدن شماره‌ی <code>index</code> ها نگاهی به متد <code>reset_index</code> و پارامتر‌های آن بیاندازید.\n",
    "</li>\n",
    "</ul>"
   ]
  },
  {
   "cell_type": "code",
   "execution_count": 180,
   "metadata": {
    "colab": {
     "base_uri": "https://localhost:8080/",
     "height": 579
    },
    "executionInfo": {
     "elapsed": 81,
     "status": "ok",
     "timestamp": 1627307356775,
     "user": {
      "displayName": "Parto Shahroodi",
      "photoUrl": "https://lh3.googleusercontent.com/a-/AOh14GgVRnuIKtxzeAYtLGbbb7NnFc-HXqxuTOJ6OMw7uw=s64",
      "userId": "08853559073941204272"
     },
     "user_tz": -270
    },
    "id": "RLS_DDJ8zmkY",
    "outputId": "7999555c-462d-4ff0-999f-3852404b1bca"
   },
   "outputs": [
    {
     "data": {
      "text/html": [
       "<div>\n",
       "<style scoped>\n",
       "    .dataframe tbody tr th:only-of-type {\n",
       "        vertical-align: middle;\n",
       "    }\n",
       "\n",
       "    .dataframe tbody tr th {\n",
       "        vertical-align: top;\n",
       "    }\n",
       "\n",
       "    .dataframe thead th {\n",
       "        text-align: right;\n",
       "    }\n",
       "</style>\n",
       "<table border=\"1\" class=\"dataframe\">\n",
       "  <thead>\n",
       "    <tr style=\"text-align: right;\">\n",
       "      <th></th>\n",
       "      <th>index</th>\n",
       "      <th>Company</th>\n",
       "      <th>Specific Bean Origin</th>\n",
       "      <th>Review Date</th>\n",
       "      <th>Cocoa Percent</th>\n",
       "      <th>Company Location</th>\n",
       "      <th>Rating</th>\n",
       "      <th>Bean Type</th>\n",
       "      <th>Broad Bean Origin</th>\n",
       "      <th>price(100g)</th>\n",
       "    </tr>\n",
       "  </thead>\n",
       "  <tbody>\n",
       "    <tr>\n",
       "      <th>0</th>\n",
       "      <td>26</td>\n",
       "      <td>Adi</td>\n",
       "      <td>Vanua Levu, Toto-A</td>\n",
       "      <td>2011</td>\n",
       "      <td>80.0</td>\n",
       "      <td>Fiji</td>\n",
       "      <td>65</td>\n",
       "      <td>Trinitario</td>\n",
       "      <td>Fiji</td>\n",
       "      <td>130000.0</td>\n",
       "    </tr>\n",
       "    <tr>\n",
       "      <th>1</th>\n",
       "      <td>27</td>\n",
       "      <td>Adi</td>\n",
       "      <td>Vanua Levu</td>\n",
       "      <td>2011</td>\n",
       "      <td>88.0</td>\n",
       "      <td>Fiji</td>\n",
       "      <td>70</td>\n",
       "      <td>Trinitario</td>\n",
       "      <td>Fiji</td>\n",
       "      <td>154000.0</td>\n",
       "    </tr>\n",
       "    <tr>\n",
       "      <th>2</th>\n",
       "      <td>28</td>\n",
       "      <td>Adi</td>\n",
       "      <td>Vanua Levu, Ami-Ami-CA</td>\n",
       "      <td>2011</td>\n",
       "      <td>72.0</td>\n",
       "      <td>Fiji</td>\n",
       "      <td>70</td>\n",
       "      <td>Trinitario</td>\n",
       "      <td>Fiji</td>\n",
       "      <td>126000.0</td>\n",
       "    </tr>\n",
       "    <tr>\n",
       "      <th>3</th>\n",
       "      <td>32</td>\n",
       "      <td>Akesson's (Pralus)</td>\n",
       "      <td>Bali (west), Sukrama Family, Melaya area</td>\n",
       "      <td>2011</td>\n",
       "      <td>75.0</td>\n",
       "      <td>Switzerland</td>\n",
       "      <td>75</td>\n",
       "      <td>Trinitario</td>\n",
       "      <td>Indonesia</td>\n",
       "      <td>140625.0</td>\n",
       "    </tr>\n",
       "    <tr>\n",
       "      <th>4</th>\n",
       "      <td>33</td>\n",
       "      <td>Akesson's (Pralus)</td>\n",
       "      <td>Madagascar, Ambolikapiky P.</td>\n",
       "      <td>2010</td>\n",
       "      <td>75.0</td>\n",
       "      <td>Switzerland</td>\n",
       "      <td>55</td>\n",
       "      <td>Criollo</td>\n",
       "      <td>Madagascar</td>\n",
       "      <td>103125.0</td>\n",
       "    </tr>\n",
       "    <tr>\n",
       "      <th>...</th>\n",
       "      <td>...</td>\n",
       "      <td>...</td>\n",
       "      <td>...</td>\n",
       "      <td>...</td>\n",
       "      <td>...</td>\n",
       "      <td>...</td>\n",
       "      <td>...</td>\n",
       "      <td>...</td>\n",
       "      <td>...</td>\n",
       "      <td>...</td>\n",
       "    </tr>\n",
       "    <tr>\n",
       "      <th>790</th>\n",
       "      <td>1778</td>\n",
       "      <td>Zotter</td>\n",
       "      <td>Raw</td>\n",
       "      <td>2014</td>\n",
       "      <td>80.0</td>\n",
       "      <td>Austria</td>\n",
       "      <td>55</td>\n",
       "      <td>Blend</td>\n",
       "      <td>Other</td>\n",
       "      <td>110000.0</td>\n",
       "    </tr>\n",
       "    <tr>\n",
       "      <th>791</th>\n",
       "      <td>1779</td>\n",
       "      <td>Zotter</td>\n",
       "      <td>Bocas del Toro, Cocabo Co-op</td>\n",
       "      <td>2012</td>\n",
       "      <td>72.0</td>\n",
       "      <td>Austria</td>\n",
       "      <td>70</td>\n",
       "      <td>Blend</td>\n",
       "      <td>Panama</td>\n",
       "      <td>126000.0</td>\n",
       "    </tr>\n",
       "    <tr>\n",
       "      <th>792</th>\n",
       "      <td>1784</td>\n",
       "      <td>Zotter</td>\n",
       "      <td>El Oro</td>\n",
       "      <td>2012</td>\n",
       "      <td>75.0</td>\n",
       "      <td>Austria</td>\n",
       "      <td>60</td>\n",
       "      <td>Forastero (Nacional)</td>\n",
       "      <td>Ecuador</td>\n",
       "      <td>112500.0</td>\n",
       "    </tr>\n",
       "    <tr>\n",
       "      <th>793</th>\n",
       "      <td>1785</td>\n",
       "      <td>Zotter</td>\n",
       "      <td>Huiwani Coop</td>\n",
       "      <td>2012</td>\n",
       "      <td>75.0</td>\n",
       "      <td>Austria</td>\n",
       "      <td>60</td>\n",
       "      <td>Criollo, Trinitario</td>\n",
       "      <td>Papua New Guinea</td>\n",
       "      <td>112500.0</td>\n",
       "    </tr>\n",
       "    <tr>\n",
       "      <th>794</th>\n",
       "      <td>1786</td>\n",
       "      <td>Zotter</td>\n",
       "      <td>El Ceibo Coop</td>\n",
       "      <td>2012</td>\n",
       "      <td>90.0</td>\n",
       "      <td>Austria</td>\n",
       "      <td>65</td>\n",
       "      <td>Blend</td>\n",
       "      <td>Bolivia</td>\n",
       "      <td>146250.0</td>\n",
       "    </tr>\n",
       "  </tbody>\n",
       "</table>\n",
       "<p>795 rows × 10 columns</p>\n",
       "</div>"
      ],
      "text/plain": [
       "     index             Company                      Specific Bean Origin  \\\n",
       "0       26                 Adi                        Vanua Levu, Toto-A   \n",
       "1       27                 Adi                                Vanua Levu   \n",
       "2       28                 Adi                    Vanua Levu, Ami-Ami-CA   \n",
       "3       32  Akesson's (Pralus)  Bali (west), Sukrama Family, Melaya area   \n",
       "4       33  Akesson's (Pralus)               Madagascar, Ambolikapiky P.   \n",
       "..     ...                 ...                                       ...   \n",
       "790   1778              Zotter                                       Raw   \n",
       "791   1779              Zotter              Bocas del Toro, Cocabo Co-op   \n",
       "792   1784              Zotter                                    El Oro   \n",
       "793   1785              Zotter                              Huiwani Coop   \n",
       "794   1786              Zotter                             El Ceibo Coop   \n",
       "\n",
       "     Review Date  Cocoa Percent Company Location  Rating  \\\n",
       "0           2011           80.0             Fiji      65   \n",
       "1           2011           88.0             Fiji      70   \n",
       "2           2011           72.0             Fiji      70   \n",
       "3           2011           75.0      Switzerland      75   \n",
       "4           2010           75.0      Switzerland      55   \n",
       "..           ...            ...              ...     ...   \n",
       "790         2014           80.0          Austria      55   \n",
       "791         2012           72.0          Austria      70   \n",
       "792         2012           75.0          Austria      60   \n",
       "793         2012           75.0          Austria      60   \n",
       "794         2012           90.0          Austria      65   \n",
       "\n",
       "                Bean Type Broad Bean Origin  price(100g)  \n",
       "0              Trinitario              Fiji     130000.0  \n",
       "1              Trinitario              Fiji     154000.0  \n",
       "2              Trinitario              Fiji     126000.0  \n",
       "3              Trinitario         Indonesia     140625.0  \n",
       "4                 Criollo        Madagascar     103125.0  \n",
       "..                    ...               ...          ...  \n",
       "790                 Blend             Other     110000.0  \n",
       "791                 Blend            Panama     126000.0  \n",
       "792  Forastero (Nacional)           Ecuador     112500.0  \n",
       "793   Criollo, Trinitario  Papua New Guinea     112500.0  \n",
       "794                 Blend           Bolivia     146250.0  \n",
       "\n",
       "[795 rows x 10 columns]"
      ]
     },
     "execution_count": 180,
     "metadata": {},
     "output_type": "execute_result"
    }
   ],
   "source": [
    "dark_chocolates = df[df.iloc[:,3] > 70.0].reset_index()\n",
    "good_chocolates = df[df.iloc[:,3] <= 70].reset_index()\n",
    "dark_chocolates"
   ]
  },
  {
   "cell_type": "markdown",
   "metadata": {
    "id": "rj3AaMY-3qzx"
   },
   "source": [
    "<h2 align=right style=\"line-height:200%;font-family:vazir;color:#0099cc\">\n",
    "<font face=\"vazir\" color=\"#0099cc\">\n",
    "قسمت پنجم\n",
    "</font>\n",
    "</h2>\n",
    "<p dir=rtl style=\"direction: rtl;text-align: right;line-height:200%;font-family:vazir;font-size:medium\">\n",
    "<font face=\"vazir\" size=3>\n",
    "نوع دانه‌ی استفاده شده برای ساخت شکلات نیز در مرغوبیت آن تاثیر مستقیم می‌گذارد برای مثال یکی از بهترین دانه‌های شکلات از نوع <code>Trinitario</code> است. به همین دلیل ویدا تصمیم گرفت قیمت شکلات‌های تلخی که از این دانه استفاده کرده‌اند را ۱۰ درصد افزایش دهد. در متغیر <code>has_Trinitario</code> برای هر شکلات مشخص کنید که آیا در نام دانه‌های مختلف این شکلات اسمی از <code>Trinitario</code> برده شده است یا خیر. و سپس از آن برای افزایش ۱۰ درصدی قیمت این ستون‌ها استفاده کنید.\n",
    "</font>\n",
    "</p>\n"
   ]
  },
  {
   "cell_type": "code",
   "execution_count": 183,
   "metadata": {
    "colab": {
     "base_uri": "https://localhost:8080/",
     "height": 703
    },
    "executionInfo": {
     "elapsed": 84,
     "status": "ok",
     "timestamp": 1627307356781,
     "user": {
      "displayName": "Parto Shahroodi",
      "photoUrl": "https://lh3.googleusercontent.com/a-/AOh14GgVRnuIKtxzeAYtLGbbb7NnFc-HXqxuTOJ6OMw7uw=s64",
      "userId": "08853559073941204272"
     },
     "user_tz": -270
    },
    "id": "VnDeajuc5zQs",
    "outputId": "acab2dbb-85dc-41ba-f8a9-2712901316a2"
   },
   "outputs": [
    {
     "name": "stderr",
     "output_type": "stream",
     "text": [
      "C:\\Users\\kiang\\AppData\\Local\\Temp/ipykernel_8836/3590871325.py:2: SettingWithCopyWarning: \n",
      "A value is trying to be set on a copy of a slice from a DataFrame\n",
      "\n",
      "See the caveats in the documentation: https://pandas.pydata.org/pandas-docs/stable/user_guide/indexing.html#returning-a-view-versus-a-copy\n",
      "  dark_chocolates['price(100g)'][dark_chocolates['Bean Type'].str.contains(\"Trinitario\")] = dark_chocolates[\"price(100g)\"].apply(lambda x : x*1/10+x)\n"
     ]
    },
    {
     "data": {
      "text/plain": [
       "0       True\n",
       "1       True\n",
       "2       True\n",
       "3       True\n",
       "4      False\n",
       "       ...  \n",
       "790    False\n",
       "791    False\n",
       "792    False\n",
       "793     True\n",
       "794    False\n",
       "Name: Bean Type, Length: 795, dtype: bool"
      ]
     },
     "execution_count": 183,
     "metadata": {},
     "output_type": "execute_result"
    }
   ],
   "source": [
    "has_Trinitario = dark_chocolates['Bean Type'].str.contains(\"Trinitario\")\n",
    "dark_chocolates['price(100g)'][dark_chocolates['Bean Type'].str.contains(\"Trinitario\")] = dark_chocolates[\"price(100g)\"].apply(lambda x : x*1/10+x)\n",
    "has_Trinitario"
   ]
  },
  {
   "cell_type": "markdown",
   "metadata": {
    "id": "TAWqo4yU3vhK"
   },
   "source": [
    "<h2 align=right style=\"line-height:200%;font-family:vazir;color:#0099cc\">\n",
    "<font face=\"vazir\" color=\"#0099cc\">\n",
    "قسمت ششم\n",
    "</font>\n",
    "</h2>\n",
    "<p dir=rtl style=\"direction: rtl;text-align: right;line-height:200%;font-family:vazir;font-size:medium\">\n",
    "<font face=\"vazir\" size=3>\n",
    "اگر ویدا تمام شکلات‌های تلخ را بفروشد، می‌تواند سود خوبی بدست بیاورد. برای کمک به او، مجموع قیمت شکلات‌های تلخ را در متغیر <code>priceSum</code> ذخیره کنید.\n",
    "</font>\n",
    "</p>\n"
   ]
  },
  {
   "cell_type": "code",
   "execution_count": 184,
   "metadata": {
    "colab": {
     "base_uri": "https://localhost:8080/"
    },
    "executionInfo": {
     "elapsed": 72,
     "status": "ok",
     "timestamp": 1627307356783,
     "user": {
      "displayName": "Parto Shahroodi",
      "photoUrl": "https://lh3.googleusercontent.com/a-/AOh14GgVRnuIKtxzeAYtLGbbb7NnFc-HXqxuTOJ6OMw7uw=s64",
      "userId": "08853559073941204272"
     },
     "user_tz": -270
    },
    "id": "prbbEfzHC2d5",
    "outputId": "bdfbe283-d239-47c5-9dbb-79b5e41136a2"
   },
   "outputs": [
    {
     "data": {
      "text/plain": [
       "102847597.25"
      ]
     },
     "execution_count": 184,
     "metadata": {},
     "output_type": "execute_result"
    }
   ],
   "source": [
    "priceSum = dark_chocolates['price(100g)'].sum()\n",
    "priceSum "
   ]
  },
  {
   "cell_type": "markdown",
   "metadata": {
    "id": "S9c4GQQF30uD"
   },
   "source": [
    "<p dir=rtl style=\"direction: rtl;text-align: right;line-height:200%;font-family:vazir;font-size:medium\">\n",
    "<font face=\"vazir\" size=3>\n",
    " مجموعه داده‌ی <code>chocolate_price.csv</code> برای ادامه‌ی مسیر استفاده می‌شود.\n",
    "</font>\n",
    "</p>"
   ]
  },
  {
   "cell_type": "markdown",
   "metadata": {},
   "source": [
    "<h2 align=right style=\"line-height:200%;font-family:vazir;color:#0099cc\">\n",
    "<font face=\"vazir\" color=\"#0099cc\">\n",
    "<b>سلول جواب‌ساز</b>\n",
    "</font>\n",
    "</h2>"
   ]
  },
  {
   "cell_type": "code",
   "execution_count": 185,
   "metadata": {
    "id": "mvUkIpKqDsy4"
   },
   "outputs": [
    {
     "name": "stdout",
     "output_type": "stream",
     "text": [
      "File Paths:\n",
      "['answers.npz', 'project1_2.ipynb', 'chocolate_price.csv', 'dark_chocolates.csv']\n"
     ]
    }
   ],
   "source": [
    "import zlib\n",
    "import zipfile\n",
    "\n",
    "\n",
    "def compress(file_names):\n",
    "    print(\"File Paths:\")\n",
    "    print(file_names)\n",
    "    compression = zipfile.ZIP_DEFLATED\n",
    "    with zipfile.ZipFile(\"result.zip\", mode=\"w\") as zf:\n",
    "        for file_name in file_names:\n",
    "            zf.write('./' + file_name, file_name, compress_type=compression)\n",
    "\n",
    "\n",
    "good_chocolates.to_csv('chocolate_price.csv',index = False)\n",
    "dark_chocolates.to_csv('dark_chocolates.csv',index = True)\n",
    "\n",
    "\n",
    "np.savez(\"answers.npz\",has_Trinitario = has_Trinitario,priceSum = priceSum)\n",
    "file_names = [\"answers.npz\", \"project1_2.ipynb\",\"chocolate_price.csv\",\"dark_chocolates.csv\"]\n",
    "compress(file_names)"
   ]
  },
  {
   "cell_type": "code",
   "execution_count": null,
   "metadata": {},
   "outputs": [],
   "source": []
  }
 ],
 "metadata": {
  "colab": {
   "authorship_tag": "ABX9TyM8tfOEJoXtp56mbFxUGCli",
   "collapsed_sections": [],
   "name": "گام دوم.ipynb",
   "provenance": []
  },
  "interpreter": {
   "hash": "243856ee5aa5cfcf7c7fc5e27ace1f0d0cf471c324fa5d741db742eb1bed0a33"
  },
  "kernelspec": {
   "display_name": "Python 3 (ipykernel)",
   "language": "python",
   "name": "python3"
  },
  "language_info": {
   "codemirror_mode": {
    "name": "ipython",
    "version": 3
   },
   "file_extension": ".py",
   "mimetype": "text/x-python",
   "name": "python",
   "nbconvert_exporter": "python",
   "pygments_lexer": "ipython3",
   "version": "3.8.1"
  }
 },
 "nbformat": 4,
 "nbformat_minor": 4
}
